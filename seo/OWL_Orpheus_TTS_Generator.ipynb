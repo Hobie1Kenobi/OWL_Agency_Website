{
  "cells": [
    {
      "cell_type": "markdown",
      "metadata": {},
      "source": [
        "# Orpheus TTS Generator for OWL AI Agency\n\nThis notebook will help you generate high-quality voice clips using the Orpheus TTS model."
      ]
    }
  ],
  "metadata": {
    "kernelspec": {
      "display_name": "Python 3",
      "language": "python",
      "name": "python3"
    }
  },
  "nbformat": 4,
  "nbformat_minor": 4
}